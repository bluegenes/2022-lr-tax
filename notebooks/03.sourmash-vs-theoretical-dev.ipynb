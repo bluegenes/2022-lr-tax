{
 "cells": [
  {
   "cell_type": "code",
   "execution_count": 17,
   "id": "5c8619b9",
   "metadata": {},
   "outputs": [],
   "source": [
    "import pandas as pd\n",
    "import seaborn as sns\n",
    "import matplotlib.pyplot as plt\n",
    "import matplotlib\n",
    "matplotlib.rcParams['pdf.fonttype'] = 42\n",
    "matplotlib.rcParams['ps.fonttype'] = 42"
   ]
  },
  {
   "cell_type": "code",
   "execution_count": 9,
   "id": "abc130ba",
   "metadata": {},
   "outputs": [
    {
     "data": {
      "text/plain": [
       "{'species': {'Zymo_D6300': 'Zymo_D6300.theoretical-distrib.species.csv',\n",
       "  'Zymo_D6331': 'Zymo_D6331.theoretical-distrib.species.csv',\n",
       "  'ATCC_MSA1003': 'ATCC_MSA1003.theoretical-distrib.species.csv'},\n",
       " 'genus': {'Zymo_D6300': 'Zymo_D6300.theoretical-distrib.genus.csv',\n",
       "  'Zymo_D6331': 'Zymo_D6331.theoretical-distrib.genus.csv',\n",
       "  'ATCC_MSA1003': 'ATCC_MSA1003.theoretical-distrib.genus.csv'}}"
      ]
     },
     "execution_count": 9,
     "metadata": {},
     "output_type": "execute_result"
    }
   ],
   "source": [
    "# filenames for all theoretical distributions\n",
    "\n",
    "species_filenames = {\"Zymo_D6300\": \"Zymo_D6300.theoretical-distrib.species.csv\",\n",
    "                     \"Zymo_D6331\": \"Zymo_D6331.theoretical-distrib.species.csv\",\n",
    "                     \"ATCC_MSA1003\": \"ATCC_MSA1003.theoretical-distrib.species.csv\"}\n",
    "\n",
    "genus_filenames = {\"Zymo_D6300\": \"Zymo_D6300.theoretical-distrib.genus.csv\",\n",
    "                     \"Zymo_D6331\": \"Zymo_D6331.theoretical-distrib.genus.csv\",\n",
    "                     \"ATCC_MSA1003\": \"ATCC_MSA1003.theoretical-distrib.genus.csv\"}\n",
    "\n",
    "{\"species\": species_filenames,\n",
    "\"genus\": genus_filenames}"
   ]
  },
  {
   "cell_type": "markdown",
   "id": "123e48f3",
   "metadata": {},
   "source": [
    "### file list \n",
    "all files:\n",
    "\n",
    "HiFi_ATCC_MSA1003_full.dna-k21-sc1000.gather.genbank.kreport.txt\n",
    "HiFi_ATCC_MSA1003_full.dna-k31-sc1000.gather.genbank.kreport.txt\n",
    "HiFi_ATCC_MSA1003_full.dna-k51-sc1000.gather.genbank.kreport.txt\n",
    "\n",
    "HiFi_ATCC_MSA1003_short.dna-k21-sc1000.gather.genbank.kreport.txt\n",
    "HiFi_ATCC_MSA1003_short.dna-k31-sc1000.gather.genbank.kreport.txt\n",
    "HiFi_ATCC_MSA1003_short.dna-k51-sc1000.gather.genbank.kreport.txt\n",
    "\n",
    "Illumina_Zymo_D6300.dna-k21-sc1000.gather.genbank.kreport.txt\n",
    "Illumina_Zymo_D6300.dna-k31-sc1000.gather.genbank.kreport.txt\n",
    "Illumina_Zymo_D6300.dna-k51-sc1000.gather.genbank.kreport.txt\n",
    "\n",
    "ONT_Q20_Zymo_D6300_full.dna-k21-sc1000.gather.genbank.kreport.txt\n",
    "ONT_Q20_Zymo_D6300_full.dna-k31-sc1000.gather.genbank.kreport.txt\n",
    "ONT_Q20_Zymo_D6300_full.dna-k51-sc1000.gather.genbank.kreport.txt\n",
    "\n",
    "HiFi_Zymo_D6331.dna-k21-sc1000.gather.genbank.kreport.txt\n",
    "HiFi_Zymo_D6331.dna-k31-sc1000.gather.genbank.kreport.txt\n",
    "HiFi_Zymo_D6331.dna-k51-sc1000.gather.genbank.kreport.txt\n",
    "\n",
    "ONT_Q20_Zymo_D6300_short.dna-k21-sc1000.gather.genbank.kreport.txt\n",
    "ONT_Q20_Zymo_D6300_short.dna-k31-sc1000.gather.genbank.kreport.txt\n",
    "ONT_Q20_Zymo_D6300_short.dna-k51-sc1000.gather.genbank.kreport.txt\n",
    "\n",
    "Illumina_ATCC_MSA1003.dna-k21-sc1000.gather.genbank.kreport.txt\n",
    "Illumina_ATCC_MSA1003.dna-k31-sc1000.gather.genbank.kreport.txt\n",
    "Illumina_ATCC_MSA1003.dna-k51-sc1000.gather.genbank.kreport.txt\n",
    "\n",
    "ONT_R10_Zymo_D6300.dna-k21-sc1000.gather.genbank.kreport.txt\n",
    "ONT_R10_Zymo_D6300.dna-k31-sc1000.gather.genbank.kreport.txt\n",
    "ONT_R10_Zymo_D6300.dna-k51-sc1000.gather.genbank.kreport.txt\n",
    "\n",
    "\n",
    "format:\n",
    "\n",
    "\"{dataset}.dna-k{ksize}-sc1000.gather.genbank.kreport.txt\""
   ]
  },
  {
   "cell_type": "code",
   "execution_count": null,
   "id": "7bb24e36",
   "metadata": {},
   "outputs": [],
   "source": [
    "# each dataset has some funky issues with names that we need to handle. attempting here."
   ]
  },
  {
   "cell_type": "code",
   "execution_count": null,
   "id": "0267e175",
   "metadata": {},
   "outputs": [],
   "source": [
    "#MSA_1003\n",
    "spD, gnD = {},{}\n",
    "if species == 'Luteovulum sphaeroides':\n",
    "    names_to_try = 'Rhodobacter sphaeroides|Luteovulum sphaeroides|Cereibacter sphaeroides'\n",
    "if species == 'Phocaeicola vulgatus':\n",
    "    names_to_try = 'Bacteroides vulgatus|Phocaeicola vulgatus'\n",
    "valid_species_additions = ['Rhodobacter sphaeroides', 'Cereibacter sphaeroides', 'Bacteroides vulgatus']\n",
    "if genus == 'Luteovulum':\n",
    "    names_to_try = 'Rhodobacter|Luteovulum|Cereibacter'\n",
    "if genus == 'Phocaeicola':\n",
    "    names_to_try = 'Bacteroides|Phocaeicola'\n",
    "valid_genus_additions = ['Rhodobacter', 'Cereibacter', 'Bacteroides']\n",
    "\n",
    "# MSA_1003\n",
    "spD['Luteovulum sphaeroides'] = 'Rhodobacter sphaeroides|Luteovulum sphaeroides|Cereibacter sphaeroides'\n",
    "spD['Phocaeicola vulgatus'] = 'Bacteroides vulgatus|Phocaeicola vulgatus'\n",
    "msa_1003_sp_addl = ['Rhodobacter sphaeroides', 'Cereibacter sphaeroides', 'Bacteroides vulgatus']\n",
    "gnD[\"Luteovulum\"] = 'Rhodobacter|Luteovulum|Cereibacter'\n",
    "gnD[\"Phocaeicola\"] = 'Bacteroides|Phocaeicola'\n",
    "msa1003_gn_addl = ['Rhodobacter', 'Cereibacter', 'Bacteroides']"
   ]
  },
  {
   "cell_type": "code",
   "execution_count": 13,
   "id": "300dfd97",
   "metadata": {},
   "outputs": [],
   "source": [
    "\n",
    "\n",
    "#datasets = {\"ATCC_MSA1003\": ,\n",
    "#              \"Zymo_D6300\": [\"Illumina_Zymo_D6300\",\"ONT_Q20_Zymo_D6300_full\",\"ONT_Q20_Zymo_D6300_short\",\"ONT_R10_Zymo_D6300\"],\n",
    "#              \"Zymo_D6331\": [\"HiFi_Zymo_D6331\"]\n",
    "# Zymo_D6331\n",
    "species=None\n",
    "genus=None\n",
    "if species == 'Limosilactobacillus fermentum': \n",
    "    names_to_try = 'Lactobacillus fermentum|Limosilactobacillus fermentum'\n",
    "if species == \"Veillonella rogosae\":\n",
    "    names_to_try = 'Veillonella'\n",
    "if species == \"Prevotella corporis\":\n",
    "    names_to_try = 'Prevotella'\n",
    "valid_species_additions = [\"Limosilactobacillus fermentum\"]\n",
    "if genus == 'Limosilactobacillus':\n",
    "    names_to_try = 'Lactobacillus|Limosilactobacillus'\n",
    "valid_genus_additions = ['Lactobacillus']\n",
    "\n",
    "\n",
    "# Zymo_D6300\n",
    "if species == 'Limosilactobacillus fermentum':\n",
    "    names_to_try = 'Lactobacillus fermentum|Limosilactobacillus fermentum'\n",
    "if species == 'Bacillus subtilis':\n",
    "    names_to_try = 'Bacillus subtilis|Bacillus spizizenii'\n",
    "\n",
    "valid_species_additions = ['Lactobacillus fermentum', 'Bacillus spizizenii']\n",
    "\n",
    "if genus == 'Limosilactobacillus':\n",
    "    names_to_try = 'Lactobacillus|Limosilactobacillus'\n",
    "valid_genus_additions = ['Lactobacillus']\n",
    "\n"
   ]
  },
  {
   "cell_type": "code",
   "execution_count": 15,
   "id": "804b7ea2",
   "metadata": {},
   "outputs": [],
   "source": [
    "# Just build conversion dict to use for all datasets\n",
    "\n",
    "taxa_searchterms = {'Limosilactobacillus fermentum':'Lactobacillus fermentum|Limosilactobacillus fermentum',\n",
    "                       \"Veillonella rogosae\": \"Veillonella\",\n",
    "                      \"Prevotella corporis\": \"Prevotella\",\n",
    "                      'Bacillus subtilis': 'Bacillus subtilis|Bacillus spizizenii',\n",
    "                      'Luteovulum sphaeroides':'Rhodobacter sphaeroides|Luteovulum sphaeroides|Cereibacter sphaeroides',\n",
    "                      'Phocaeicola vulgatus': 'Bacteroides vulgatus|Phocaeicola vulgatus',\n",
    "                      'Luteovulum':'Rhodobacter|Luteovulum|Cereibacter',\n",
    "                      'Phocaeicola':'Bacteroides|Phocaeicola',\n",
    "                      'Limosilactobacillus': 'Lactobacillus|Limosilactobacillus'\n",
    "                       }"
   ]
  },
  {
   "cell_type": "code",
   "execution_count": null,
   "id": "9a8019f8",
   "metadata": {},
   "outputs": [],
   "source": [
    "\n",
    "datasets = {\"ATCC_MSA1003\": [\"HiFi_ATCC_MSA1003_full\", \"HiFi_ATCC_MSA1003_short\", \"Illumina_ATCC_MSA1003\"],\n",
    "              \"Zymo_D6300\": [\"Illumina_Zymo_D6300\",\"ONT_Q20_Zymo_D6300_full\",\"ONT_Q20_Zymo_D6300_short\",\"ONT_R10_Zymo_D6300\"],\n",
    "              \"Zymo_D6331\": [\"HiFi_Zymo_D6331\"]\n",
    "}\n",
    "\n",
    "\n",
    "df_thresh_folder = \"sourmash-kreports-2022-10-03.genbank\"\n",
    "zero_thresh_folder = \"../output.lr-gather/gather\"\n",
    "\n",
    "all_smashreports = []\n",
    "\n",
    "for kreport_folder in [df_thresh_folder, zero_thresh_folder]:\n",
    "    ksize =31\n",
    "    for ds in datasets:\n",
    "        kreportF = f\"{kreport_folder}/{ds}.dna-k{ksize}-sc1000.gather.genbank.kreport.txt\"\n",
    "\n",
    "\n"
   ]
  },
  {
   "cell_type": "code",
   "execution_count": null,
   "id": "6d340459",
   "metadata": {},
   "outputs": [],
   "source": [
    "# create dictionaries of species counts per method and genus counts per method\n",
    "# these will be used to create dataframes\n",
    "\n",
    "species_count_dict, genus_count_dict = {}, {}\n",
    "num_tools = len(files)\n",
    "species_fp_counts = {} #defaultdict(dict)\n",
    "genus_fp_counts = {}\n",
    "\n",
    "for f in files:\n",
    "    # get name of file for dict keys\n",
    "    fname = f.split('/')[-1].split('.')[0]\n",
    "    \n",
    "    # insert dict key with empty list\n",
    "    species_count_dict[fname] = []\n",
    "    genus_count_dict[fname] = []\n",
    "    \n",
    "    # create dataframe\n",
    "    df = pd.read_csv(f, sep = '\\t', header=None,\n",
    "                     names = ['proportion', 'cumulative_count', 'level_count', 'rank', 'taxid', 'name'])\n",
    "\n",
    "    # iterate over species names \n",
    "    for z in zymo_species:\n",
    "        # deal with synonymy for this species, make dataframes with matched species\n",
    "        if z == 'Limosilactobacillus fermentum':\n",
    "            temp = df[(df['name'].str.contains('Lactobacillus fermentum|Limosilactobacillus fermentum', regex=True))]\n",
    "        elif z == \"Veillonella rogosae\":\n",
    "            temp = df[(df['name'].str.contains('Veillonella', regex=True))]\n",
    "        elif z == \"Prevotella corporis\":\n",
    "            temp = df[(df['name'].str.contains('Prevotella', regex=True))]\n",
    "        else:\n",
    "            temp = df[(df['name'].str.contains(z))]\n",
    "        # add the cumulative count for the species name to the dict list\n",
    "        # this will have the effect of including all strains below, which are correct\n",
    "        species_count_dict[fname].append(temp.loc[df['rank'] == 'S', 'cumulative_count'].sum())\n",
    "\n",
    "    # calculate the sum of level counts for all non-target species\n",
    "    # create a database in which none of the species names occur\n",
    "    false_sp_df = df[(~df['name'].str.contains(\"|\".join(zymo_species + ['Lactobacillus fermentum']), regex=True))]\n",
    "\n",
    "    # add the cumulative count for 'other' to the dict list\n",
    "    species_count_dict[fname].append(false_sp_df.loc[false_sp_df['rank'] == 'S',  'cumulative_count'].sum())\n",
    "\n",
    "    ## NTP: Keep track of False positives\n",
    "    species_fp_only = false_sp_df.loc[false_sp_df['rank'] == 'S']\n",
    "    for species in species_fp_only['name'].to_list():\n",
    "        # start with dict of zereoes (to prevent missing data)\n",
    "        if species not in species_fp_counts.keys():\n",
    "            species_fp_counts[species] = {f.split('/')[-1].split('.')[0]:0 for f in files}\n",
    "        this_species_count = species_fp_only[species_fp_only[\"name\"] == species]['cumulative_count'].values[0]\n",
    "        species_fp_counts[species][fname] = this_species_count\n",
    "    \n",
    "    # iterate over genus names \n",
    "    for z in zymo_genera:\n",
    "        # deal with synonymy for this species, make dataframes with matched species\n",
    "        if z == 'Limosilactobacillus':\n",
    "            temp = df[(df['name'].str.contains('Lactobacillus|Limosilactobacillus',regex=True))]\n",
    "        else:\n",
    "            temp = df[(df['name'].str.contains(z))]\n",
    "        # add the cumulative count for the genus to the dict list\n",
    "        genus_count_dict[fname].append(temp.loc[df['rank'] == 'G', 'cumulative_count'].sum())\n",
    "\n",
    "    # calculate the sum of cumulative counts for all non-target genera\n",
    "    # create a database in which none of the genus names occur\n",
    "    false_genus_df = df[(~df['name'].str.contains(\"|\".join(zymo_genera + ['Lactobacillus']), regex=True))]\n",
    "    \n",
    "    # add the level count for 'other' to the dict list\n",
    "    genus_count_dict[fname].append(false_genus_df.loc[false_genus_df['rank'] == 'G',  'cumulative_count'].sum())\n",
    "\n",
    "    ## NTP: Keep track of False positives\n",
    "    genus_fp_only = false_genus_df.loc[false_genus_df['rank'] == 'G']\n",
    "    for genus in genus_fp_only['name'].to_list():\n",
    "        # start with dict of zereoes (to prevent missing data)\n",
    "        if genus not in genus_fp_counts.keys():\n",
    "            genus_fp_counts[genus] = {f.split('/')[-1].split('.')[0]:0 for f in files}\n",
    "        this_genus_count = genus_fp_only[genus_fp_only[\"name\"] == genus]['cumulative_count'].values[0]\n",
    "        genus_fp_counts[genus][fname] = this_genus_count"
   ]
  },
  {
   "cell_type": "code",
   "execution_count": 117,
   "id": "aa5ddebe",
   "metadata": {},
   "outputs": [],
   "source": [
    "from collections import defaultdict\n",
    "\n",
    "def check_expected_taxa(theoretical_taxa, kreport_df, countDict, kreport_fname, rank= \"S\"):\n",
    "    missing=[]\n",
    "    for t in theoretical_taxa:\n",
    "        if \"|\" in t: #in namediff_dict.keys:\n",
    "            #t = namediff_dict[t]\n",
    "            tempD = kreport_df[(kreport_df['name'].str.contains(t, regex=True))]\n",
    "        else:\n",
    "            tempD = kreport_df[(kreport_df['name'].str.contains(t))]\n",
    "        if tempD.empty:\n",
    "            missing.append(t)\n",
    "        # add the cumulative count for the species name to the dict list\n",
    "        # this will have the effect of including all strains below, which are correct\n",
    "        countDict[kreport_fname].append(tempD.loc[kreport_df['rank'] == rank, 'cumulative_count'].sum())\n",
    "        return countDict, missing\n",
    "\n",
    "\n",
    "def assess_dataset(dataset_name, theoretical_dict, kreport_dict, namediff_dict):\n",
    "    sp_count_dict, gn_count_dict = defaultdict(list), defaultdict(list)\n",
    "    species_fp_counts, genus_fp_counts = {}, {}\n",
    "    all_toolnames = kreport_dict.keys()\n",
    "    \n",
    "    theoretical_speciesF = theoretical_dict[\"species\"][dataset_name]\n",
    "    print(theoretical_speciesF)\n",
    "    theoretical_species = pd.read_csv(theoretical_speciesF)\n",
    "    theoretical_genera = pd.read_csv(theoretical_dict[\"genus\"][dataset_name])\n",
    "    theoretical_sp = theoretical_species['Taxon'].tolist()\n",
    "    theoretical_gn = theoretical_genera['Taxon'].tolist()\n",
    "    search_species_names = [namediff_dict.get(t, t) for t in theoretical_sp] # deal with synonymy\n",
    "    search_genus_names = [namediff_dict.get(t, t) for t in theoretical_gn] # deal with synonymy\n",
    "    \n",
    "    for kreport_fname, kreportF in kreport_dict.items():    \n",
    "        # read kreport\n",
    "        kreport_df = pd.read_csv(kreportF, sep = '\\t', header=None,\n",
    "                         names = ['proportion', 'cumulative_count', 'level_count', 'rank', 'taxid', 'name'])    \n",
    "        \n",
    "        # First, search for True Positives:\n",
    "\n",
    "        # create dictionaries of species counts per method and genus counts per method\n",
    "        sp_count_dict, missing_species = check_expected_taxa(search_species_names, kreport_df, sp_count_dict, kreport_fname, rank='S')\n",
    "        gn_count_dict, missing_genera = check_expected_taxa(search_genus_names, kreport_df, gn_count_dict, kreport_fname, rank='G')\n",
    "\n",
    "        # Record cumulative FP count: species\n",
    "        fp_sp_df= kreport_df[(~kreport_df['name'].str.contains(\"|\".join(search_species_names), regex=True))]\n",
    "        # add the cumulative count for 'other' to the dict list\n",
    "        sp_count_dict[kreport_fname].append(fp_sp_df.loc[fp_sp_df['rank'] == 'S',  'cumulative_count'].sum())\n",
    "\n",
    "        # Record cumulative FP count: genera\n",
    "        fp_gn_df= kreport_df[(~kreport_df['name'].str.contains(\"|\".join(search_genus_names), regex=True))]\n",
    "        # add the cumulative count for 'other' to the dict list\n",
    "        gn_count_dict[kreport_fname].append(fp_gn_df.loc[fp_gn_df['rank'] == 'G',  'cumulative_count'].sum())\n",
    "\n",
    "        # Track False Positives: species\n",
    "        species_fp = fp_sp_df.loc[fp_sp_df['rank'] == 'S']\n",
    "        for species in species_fp['name'].to_list():\n",
    "            # start with dict of zereoes (to prevent missing data)\n",
    "            if species not in species_fp_counts.keys():\n",
    "                species_fp_counts[species] = {f.split('/')[-1].split('.')[0]:0 for f in all_toolnames}\n",
    "            this_species_count = species_fp[species_fp[\"name\"] == species]['cumulative_count'].values[0]\n",
    "            species_fp_counts[species][kreport_fname] = this_species_count\n",
    "    \n",
    "        # Track False Positives: genus\n",
    "        genus_fp = fp_gn_df.loc[fp_sp_df['rank'] == 'G']\n",
    "        for genus in genus_fp['name'].to_list():\n",
    "            # start with dict of zereoes (to prevent missing data)\n",
    "            if genus not in genus_fp_counts.keys():\n",
    "                genus_fp_counts[genus] = {f.split('/')[-1].split('.')[0]:0 for f in all_toolnames}\n",
    "            this_genus_count = genus_fp[genus_fp[\"name\"] == genus]['cumulative_count'].values[0]\n",
    "            genus_fp_counts[genus][kreport_fname] = this_genus_count\n",
    "    # should/can we keep track of false negatives here too? Any taxa missing from kreport d?\n",
    "        print(f\"{kreport_fname} species false negatives: \", \", \".join(missing_species))\n",
    "        print(f\"{kreport_fname} genus false negatives: \", \", \".join(missing_genera))\n",
    "    return species_fp_counts, genus_fp_counts"
   ]
  },
  {
   "cell_type": "code",
   "execution_count": 102,
   "id": "1a8b2266",
   "metadata": {},
   "outputs": [
    {
     "data": {
      "text/plain": [
       "defaultdict(dict,\n",
       "            {'HiFi_ATCC_MSA1003_full': {'sourmash_k31': 'sourmash-kreports-2022-10-03.genbank/HiFi_ATCC_MSA1003_full.dna-k31-sc1000.gather.genbank.kreport.txt',\n",
       "              'sourmash_k51': 'sourmash-kreports-2022-10-03.genbank/HiFi_ATCC_MSA1003_full.dna-k51-sc1000.gather.genbank.kreport.txt'},\n",
       "             'HiFi_ATCC_MSA1003_short': {'sourmash_k31': 'sourmash-kreports-2022-10-03.genbank/HiFi_ATCC_MSA1003_short.dna-k31-sc1000.gather.genbank.kreport.txt',\n",
       "              'sourmash_k51': 'sourmash-kreports-2022-10-03.genbank/HiFi_ATCC_MSA1003_short.dna-k51-sc1000.gather.genbank.kreport.txt'},\n",
       "             'Illumina_ATCC_MSA1003': {'sourmash_k31': 'sourmash-kreports-2022-10-03.genbank/Illumina_ATCC_MSA1003.dna-k31-sc1000.gather.genbank.kreport.txt',\n",
       "              'sourmash_k51': 'sourmash-kreports-2022-10-03.genbank/Illumina_ATCC_MSA1003.dna-k51-sc1000.gather.genbank.kreport.txt'},\n",
       "             'Illumina_Zymo_D6300': {'sourmash_k31': 'sourmash-kreports-2022-10-03.genbank/Illumina_Zymo_D6300.dna-k31-sc1000.gather.genbank.kreport.txt',\n",
       "              'sourmash_k51': 'sourmash-kreports-2022-10-03.genbank/Illumina_Zymo_D6300.dna-k51-sc1000.gather.genbank.kreport.txt'},\n",
       "             'ONT_Q20_Zymo_D6300_full': {'sourmash_k31': 'sourmash-kreports-2022-10-03.genbank/ONT_Q20_Zymo_D6300_full.dna-k31-sc1000.gather.genbank.kreport.txt',\n",
       "              'sourmash_k51': 'sourmash-kreports-2022-10-03.genbank/ONT_Q20_Zymo_D6300_full.dna-k51-sc1000.gather.genbank.kreport.txt'},\n",
       "             'ONT_Q20_Zymo_D6300_short': {'sourmash_k31': 'sourmash-kreports-2022-10-03.genbank/ONT_Q20_Zymo_D6300_short.dna-k31-sc1000.gather.genbank.kreport.txt',\n",
       "              'sourmash_k51': 'sourmash-kreports-2022-10-03.genbank/ONT_Q20_Zymo_D6300_short.dna-k51-sc1000.gather.genbank.kreport.txt'},\n",
       "             'ONT_R10_Zymo_D6300': {'sourmash_k31': 'sourmash-kreports-2022-10-03.genbank/ONT_R10_Zymo_D6300.dna-k31-sc1000.gather.genbank.kreport.txt',\n",
       "              'sourmash_k51': 'sourmash-kreports-2022-10-03.genbank/ONT_R10_Zymo_D6300.dna-k51-sc1000.gather.genbank.kreport.txt'},\n",
       "             'HiFi_Zymo_D6331': {'sourmash_k31': 'sourmash-kreports-2022-10-03.genbank/HiFi_Zymo_D6331.dna-k31-sc1000.gather.genbank.kreport.txt',\n",
       "              'sourmash_k51': 'sourmash-kreports-2022-10-03.genbank/HiFi_Zymo_D6331.dna-k51-sc1000.gather.genbank.kreport.txt'}})"
      ]
     },
     "execution_count": 102,
     "metadata": {},
     "output_type": "execute_result"
    }
   ],
   "source": [
    "datasets = {\"ATCC_MSA1003\": [\"HiFi_ATCC_MSA1003_full\", \"HiFi_ATCC_MSA1003_short\", \"Illumina_ATCC_MSA1003\"],\n",
    "              \"Zymo_D6300\": [\"Illumina_Zymo_D6300\",\"ONT_Q20_Zymo_D6300_full\",\"ONT_Q20_Zymo_D6300_short\",\"ONT_R10_Zymo_D6300\"],\n",
    "              \"HiFi_Zymo_D6331\": [\"HiFi_Zymo_D6331\"]\n",
    "}\n",
    "\n",
    "\n",
    "df_thresh_folder = \"sourmash-kreports-2022-10-03.genbank\"\n",
    "zero_thresh_folder = \"../output.lr-gather/gather\"\n",
    "\n",
    "from collections import defaultdict\n",
    "kreport_dict = defaultdict(dict)\n",
    "\n",
    "for kreport_folder in [df_thresh_folder]:#, zero_thresh_folder]:\n",
    "    for ksize in [31,51]:\n",
    "        for ds, ds_list in datasets.items():\n",
    "            for d in ds_list:\n",
    "                fname = f\"sourmash_k{ksize}\"\n",
    "                kreportF = f\"{kreport_folder}/{d}.dna-k{ksize}-sc1000.gather.genbank.kreport.txt\"\n",
    "                kreport_dict[d].update({fname: kreportF})\n",
    "kreport_dict"
   ]
  },
  {
   "cell_type": "code",
   "execution_count": 106,
   "id": "679dc51e",
   "metadata": {},
   "outputs": [],
   "source": [
    "# filenames for all theoretical distributions\n",
    "\n",
    "species_filenames = {\"Zymo_D6300\": \"Zymo_D6300.theoretical-distrib.species.csv\",\n",
    "                     \"HiFi_Zymo_D6331\": \"HiFi_Zymo_D6331.theoretical-distrib.species.csv\",\n",
    "                     \"ATCC_MSA1003\": \"ATCC_MSA1003.theoretical-distrib.species.csv\"}\n",
    "\n",
    "genus_filenames = {\"Zymo_D6300\": \"Zymo_D6300.theoretical-distrib.genus.csv\",\n",
    "                     \"HiFi_Zymo_D6331\": \"HiFi_Zymo_D6331.theoretical-distrib.genus.csv\",\n",
    "                     \"ATCC_MSA1003\": \"ATCC_MSA1003.theoretical-distrib.genus.csv\"}\n",
    "\n",
    "\n",
    "\n",
    "theoretical_distributions_dict = {\"species\": species_filenames, \"genus\": genus_filenames}"
   ]
  },
  {
   "cell_type": "code",
   "execution_count": 62,
   "id": "9bd5150c",
   "metadata": {},
   "outputs": [
    {
     "name": "stdout",
     "output_type": "stream",
     "text": [
      "sourmash-kreports-2022-10-03.genbank/HiFi_Zymo_D6331.dna-k31-sc1000.gather.genbank.kreport.txt\n"
     ]
    }
   ],
   "source": [
    "#test_D6331\n",
    "kreport_folder = \"sourmash-kreports-2022-10-03.genbank\"\n",
    "ds = \"HiFi_Zymo_D6331\"\n",
    "ksize=31\n",
    "kreportF = f\"{kreport_folder}/{ds}.dna-k{ksize}-sc1000.gather.genbank.kreport.txt\"\n",
    "print(kreportF)"
   ]
  },
  {
   "cell_type": "code",
   "execution_count": 63,
   "id": "b12dcb36",
   "metadata": {},
   "outputs": [
    {
     "name": "stdout",
     "output_type": "stream",
     "text": [
      "/Users/tessa/dib-lab/2022-lr-tax/notebooks\n"
     ]
    }
   ],
   "source": [
    "!pwd"
   ]
  },
  {
   "cell_type": "code",
   "execution_count": 64,
   "id": "bfd852cf",
   "metadata": {},
   "outputs": [
    {
     "data": {
      "text/html": [
       "<div>\n",
       "<style scoped>\n",
       "    .dataframe tbody tr th:only-of-type {\n",
       "        vertical-align: middle;\n",
       "    }\n",
       "\n",
       "    .dataframe tbody tr th {\n",
       "        vertical-align: top;\n",
       "    }\n",
       "\n",
       "    .dataframe thead th {\n",
       "        text-align: right;\n",
       "    }\n",
       "</style>\n",
       "<table border=\"1\" class=\"dataframe\">\n",
       "  <thead>\n",
       "    <tr style=\"text-align: right;\">\n",
       "      <th></th>\n",
       "      <th>Taxon</th>\n",
       "      <th>Theoretical Distribution</th>\n",
       "      <th>HiFi_Zymo_D6331_theoretical_reads</th>\n",
       "    </tr>\n",
       "  </thead>\n",
       "  <tbody>\n",
       "    <tr>\n",
       "      <th>0</th>\n",
       "      <td>Faecalibacterium prausnitzii</td>\n",
       "      <td>0.140000</td>\n",
       "      <td>277039.280000</td>\n",
       "    </tr>\n",
       "    <tr>\n",
       "      <th>1</th>\n",
       "      <td>Veillonella rogosae</td>\n",
       "      <td>0.140000</td>\n",
       "      <td>277039.280000</td>\n",
       "    </tr>\n",
       "    <tr>\n",
       "      <th>2</th>\n",
       "      <td>Roseburia hominis</td>\n",
       "      <td>0.140000</td>\n",
       "      <td>277039.280000</td>\n",
       "    </tr>\n",
       "    <tr>\n",
       "      <th>3</th>\n",
       "      <td>Bacteroides fragilis</td>\n",
       "      <td>0.140000</td>\n",
       "      <td>277039.280000</td>\n",
       "    </tr>\n",
       "    <tr>\n",
       "      <th>4</th>\n",
       "      <td>Escherichia coli</td>\n",
       "      <td>0.140000</td>\n",
       "      <td>277039.280000</td>\n",
       "    </tr>\n",
       "    <tr>\n",
       "      <th>5</th>\n",
       "      <td>Prevotella corporis</td>\n",
       "      <td>0.060000</td>\n",
       "      <td>118731.120000</td>\n",
       "    </tr>\n",
       "    <tr>\n",
       "      <th>6</th>\n",
       "      <td>Bifidobacterium adolescentis</td>\n",
       "      <td>0.060000</td>\n",
       "      <td>118731.120000</td>\n",
       "    </tr>\n",
       "    <tr>\n",
       "      <th>7</th>\n",
       "      <td>Fusobacterium nucleatum</td>\n",
       "      <td>0.060000</td>\n",
       "      <td>118731.120000</td>\n",
       "    </tr>\n",
       "    <tr>\n",
       "      <th>8</th>\n",
       "      <td>Limosilactobacillus fermentum</td>\n",
       "      <td>0.060000</td>\n",
       "      <td>118731.120000</td>\n",
       "    </tr>\n",
       "    <tr>\n",
       "      <th>9</th>\n",
       "      <td>Clostridioides difficile</td>\n",
       "      <td>0.015000</td>\n",
       "      <td>29682.780000</td>\n",
       "    </tr>\n",
       "    <tr>\n",
       "      <th>10</th>\n",
       "      <td>Akkermansia muciniphila</td>\n",
       "      <td>0.015000</td>\n",
       "      <td>29682.780000</td>\n",
       "    </tr>\n",
       "    <tr>\n",
       "      <th>11</th>\n",
       "      <td>Methanobrevibacter smithii</td>\n",
       "      <td>0.001000</td>\n",
       "      <td>1978.852000</td>\n",
       "    </tr>\n",
       "    <tr>\n",
       "      <th>12</th>\n",
       "      <td>Salmonella enterica</td>\n",
       "      <td>0.000100</td>\n",
       "      <td>197.885200</td>\n",
       "    </tr>\n",
       "    <tr>\n",
       "      <th>13</th>\n",
       "      <td>Enterococcus faecalis</td>\n",
       "      <td>0.000010</td>\n",
       "      <td>19.788520</td>\n",
       "    </tr>\n",
       "    <tr>\n",
       "      <th>14</th>\n",
       "      <td>Clostridium perfringens</td>\n",
       "      <td>0.000001</td>\n",
       "      <td>1.978852</td>\n",
       "    </tr>\n",
       "    <tr>\n",
       "      <th>15</th>\n",
       "      <td>Candida albicans</td>\n",
       "      <td>0.015000</td>\n",
       "      <td>29682.780000</td>\n",
       "    </tr>\n",
       "    <tr>\n",
       "      <th>16</th>\n",
       "      <td>Saccharomyces cerevisiae</td>\n",
       "      <td>0.014000</td>\n",
       "      <td>27703.928000</td>\n",
       "    </tr>\n",
       "  </tbody>\n",
       "</table>\n",
       "</div>"
      ],
      "text/plain": [
       "                            Taxon  Theoretical Distribution  \\\n",
       "0    Faecalibacterium prausnitzii                  0.140000   \n",
       "1             Veillonella rogosae                  0.140000   \n",
       "2               Roseburia hominis                  0.140000   \n",
       "3            Bacteroides fragilis                  0.140000   \n",
       "4                Escherichia coli                  0.140000   \n",
       "5             Prevotella corporis                  0.060000   \n",
       "6    Bifidobacterium adolescentis                  0.060000   \n",
       "7         Fusobacterium nucleatum                  0.060000   \n",
       "8   Limosilactobacillus fermentum                  0.060000   \n",
       "9        Clostridioides difficile                  0.015000   \n",
       "10        Akkermansia muciniphila                  0.015000   \n",
       "11     Methanobrevibacter smithii                  0.001000   \n",
       "12            Salmonella enterica                  0.000100   \n",
       "13          Enterococcus faecalis                  0.000010   \n",
       "14        Clostridium perfringens                  0.000001   \n",
       "15               Candida albicans                  0.015000   \n",
       "16       Saccharomyces cerevisiae                  0.014000   \n",
       "\n",
       "    HiFi_Zymo_D6331_theoretical_reads  \n",
       "0                       277039.280000  \n",
       "1                       277039.280000  \n",
       "2                       277039.280000  \n",
       "3                       277039.280000  \n",
       "4                       277039.280000  \n",
       "5                       118731.120000  \n",
       "6                       118731.120000  \n",
       "7                       118731.120000  \n",
       "8                       118731.120000  \n",
       "9                        29682.780000  \n",
       "10                       29682.780000  \n",
       "11                        1978.852000  \n",
       "12                         197.885200  \n",
       "13                          19.788520  \n",
       "14                           1.978852  \n",
       "15                       29682.780000  \n",
       "16                       27703.928000  "
      ]
     },
     "execution_count": 64,
     "metadata": {},
     "output_type": "execute_result"
    }
   ],
   "source": [
    "theoretical_speciesD = pd.read_csv(species_filenames[ds]) \n",
    "theoretical_generaD = pd.read_csv(genus_filenames[ds])\n",
    "theoretical_speciesD"
   ]
  },
  {
   "cell_type": "code",
   "execution_count": 65,
   "id": "0d146afc",
   "metadata": {},
   "outputs": [
    {
     "data": {
      "text/plain": [
       "['Faecalibacterium prausnitzii',\n",
       " 'Veillonella rogosae',\n",
       " 'Roseburia hominis',\n",
       " 'Bacteroides fragilis',\n",
       " 'Escherichia coli',\n",
       " 'Prevotella corporis',\n",
       " 'Bifidobacterium adolescentis',\n",
       " 'Fusobacterium nucleatum',\n",
       " 'Limosilactobacillus fermentum',\n",
       " 'Clostridioides difficile',\n",
       " 'Akkermansia muciniphila',\n",
       " 'Methanobrevibacter smithii',\n",
       " 'Salmonella enterica',\n",
       " 'Enterococcus faecalis',\n",
       " 'Clostridium perfringens',\n",
       " 'Candida albicans',\n",
       " 'Saccharomyces cerevisiae']"
      ]
     },
     "execution_count": 65,
     "metadata": {},
     "output_type": "execute_result"
    }
   ],
   "source": [
    "theoretical_sp = theoretical_speciesD['Taxon'].tolist()\n",
    "theoretical_sp"
   ]
  },
  {
   "cell_type": "code",
   "execution_count": 66,
   "id": "df825332",
   "metadata": {},
   "outputs": [
    {
     "data": {
      "text/plain": [
       "['Faecalibacterium',\n",
       " 'Veillonella',\n",
       " 'Roseburia',\n",
       " 'Bacteroides',\n",
       " 'Escherichia',\n",
       " 'Prevotella',\n",
       " 'Bifidobacterium',\n",
       " 'Fusobacterium',\n",
       " 'Limosilactobacillus',\n",
       " 'Clostridioides',\n",
       " 'Akkermansia',\n",
       " 'Methanobrevibacter',\n",
       " 'Salmonella',\n",
       " 'Enterococcus',\n",
       " 'Clostridium',\n",
       " 'Candida',\n",
       " 'Saccharomyces']"
      ]
     },
     "execution_count": 66,
     "metadata": {},
     "output_type": "execute_result"
    }
   ],
   "source": [
    "theoretical_gn = theoretical_generaD['Taxon'].tolist()\n",
    "theoretical_gn"
   ]
  },
  {
   "cell_type": "code",
   "execution_count": 93,
   "id": "fbe6ffdc",
   "metadata": {},
   "outputs": [
    {
     "name": "stdout",
     "output_type": "stream",
     "text": [
      "sourmash_k31 species false negatives:  \n",
      "sourmash_k31 genus false negatives:  \n",
      "sourmash_k51 species false negatives:  \n",
      "sourmash_k51 genus false negatives:  \n"
     ]
    }
   ],
   "source": [
    "sp_fp, genus_fp = assess_kreport(kreport_dict['HiFi_Zymo_D6331'], theoretical_speciesD, theoretical_generaD, taxa_searchterms)"
   ]
  },
  {
   "cell_type": "code",
   "execution_count": 94,
   "id": "e2a52604",
   "metadata": {},
   "outputs": [
    {
     "data": {
      "text/plain": [
       "{'Limosilactobacillus fermentum': 'Lactobacillus fermentum|Limosilactobacillus fermentum',\n",
       " 'Veillonella rogosae': 'Veillonella',\n",
       " 'Prevotella corporis': 'Prevotella',\n",
       " 'Bacillus subtilis': 'Bacillus subtilis|Bacillus spizizenii',\n",
       " 'Luteovulum sphaeroides': 'Rhodobacter sphaeroides|Luteovulum sphaeroides|Cereibacter sphaeroides',\n",
       " 'Phocaeicola vulgatus': 'Bacteroides vulgatus|Phocaeicola vulgatus',\n",
       " 'Luteovulum': 'Rhodobacter|Luteovulum|Cereibacter',\n",
       " 'Phocaeicola': 'Bacteroides|Phocaeicola',\n",
       " 'Limosilactobacillus': 'Lactobacillus|Limosilactobacillus'}"
      ]
     },
     "execution_count": 94,
     "metadata": {},
     "output_type": "execute_result"
    }
   ],
   "source": [
    "taxa_searchterms"
   ]
  },
  {
   "cell_type": "code",
   "execution_count": 95,
   "id": "b534967a",
   "metadata": {},
   "outputs": [
    {
     "data": {
      "text/plain": [
       "{'Faecalibacterium sp. AF28-13AC': {'sourmash_k31': 2162927000,\n",
       "  'sourmash_k51': 2122156000},\n",
       " 'Saccharomyces pastorianus': {'sourmash_k31': 815000, 'sourmash_k51': 0},\n",
       " 'Acinetobacter baumannii': {'sourmash_k31': 0, 'sourmash_k51': 774000},\n",
       " 'Faecalibacterium sp. Marseille-Q3530': {'sourmash_k31': 0,\n",
       "  'sourmash_k51': 39254000}}"
      ]
     },
     "execution_count": 95,
     "metadata": {},
     "output_type": "execute_result"
    }
   ],
   "source": [
    "sp_fp"
   ]
  },
  {
   "cell_type": "code",
   "execution_count": 96,
   "id": "23eb96e6",
   "metadata": {},
   "outputs": [
    {
     "data": {
      "text/plain": [
       "{'Acinetobacter': {'sourmash_k31': 0, 'sourmash_k51': 774000}}"
      ]
     },
     "execution_count": 96,
     "metadata": {},
     "output_type": "execute_result"
    }
   ],
   "source": [
    "genus_fp"
   ]
  },
  {
   "cell_type": "code",
   "execution_count": 97,
   "id": "d30177e7",
   "metadata": {},
   "outputs": [
    {
     "data": {
      "text/plain": [
       "defaultdict(dict,\n",
       "            {'ATCC_MSA1003': {'sourmash_k31': 'sourmash-kreports-2022-10-03.genbank/ATCC_MSA1003.dna-k31-sc1000.gather.genbank.kreport.txt',\n",
       "              'sourmash_k51': 'sourmash-kreports-2022-10-03.genbank/ATCC_MSA1003.dna-k51-sc1000.gather.genbank.kreport.txt'},\n",
       "             'Zymo_D6300': {'sourmash_k31': 'sourmash-kreports-2022-10-03.genbank/Zymo_D6300.dna-k31-sc1000.gather.genbank.kreport.txt',\n",
       "              'sourmash_k51': 'sourmash-kreports-2022-10-03.genbank/Zymo_D6300.dna-k51-sc1000.gather.genbank.kreport.txt'},\n",
       "             'HiFi_Zymo_D6331': {'sourmash_k31': 'sourmash-kreports-2022-10-03.genbank/HiFi_Zymo_D6331.dna-k31-sc1000.gather.genbank.kreport.txt',\n",
       "              'sourmash_k51': 'sourmash-kreports-2022-10-03.genbank/HiFi_Zymo_D6331.dna-k51-sc1000.gather.genbank.kreport.txt'}})"
      ]
     },
     "execution_count": 97,
     "metadata": {},
     "output_type": "execute_result"
    }
   ],
   "source": [
    "kreport_dict"
   ]
  },
  {
   "cell_type": "code",
   "execution_count": null,
   "id": "b3767799",
   "metadata": {},
   "outputs": [],
   "source": [
    "# filenames for all theoretical distributions\n",
    "\n",
    "species_filenames = {\"Zymo_D6300\": \"Zymo_D6300.theoretical-distrib.species.csv\",\n",
    "                     \"HiFi_Zymo_D6331\": \"HiFi_Zymo_D6331.theoretical-distrib.species.csv\",\n",
    "                     \"ATCC_MSA1003\": \"ATCC_MSA1003.theoretical-distrib.species.csv\"}\n",
    "\n",
    "genus_filenames = {\"Zymo_D6300\": \"Zymo_D6300.theoretical-distrib.genus.csv\",\n",
    "                     \"HiFi_Zymo_D6331\": \"HiFi_Zymo_D6331.theoretical-distrib.genus.csv\",\n",
    "                     \"ATCC_MSA1003\": \"ATCC_MSA1003.theoretical-distrib.genus.csv\"}\n",
    "\n",
    "{\"species\": species_filenames,\n",
    "\"genus\": genus_filenames}"
   ]
  },
  {
   "cell_type": "code",
   "execution_count": 112,
   "id": "5e0e0c43",
   "metadata": {},
   "outputs": [
    {
     "data": {
      "text/plain": [
       "'Zymo_D6300.theoretical-distrib.species.csv'"
      ]
     },
     "execution_count": 112,
     "metadata": {},
     "output_type": "execute_result"
    }
   ],
   "source": [
    "theoretical_distributions_dict[\"species\"][\"Zymo_D6300\"]"
   ]
  },
  {
   "cell_type": "code",
   "execution_count": 118,
   "id": "0da4e083",
   "metadata": {},
   "outputs": [
    {
     "name": "stdout",
     "output_type": "stream",
     "text": [
      "ATCC_MSA1003.theoretical-distrib.species.csv\n",
      "sourmash_k31 species false negatives:  \n",
      "sourmash_k31 genus false negatives:  \n",
      "sourmash_k51 species false negatives:  \n",
      "sourmash_k51 genus false negatives:  \n"
     ]
    }
   ],
   "source": [
    "sp_fp, genus_fp = assess_dataset(\"ATCC_MSA1003\", theoretical_distributions_dict, kreport_dict['HiFi_ATCC_MSA1003_full'], taxa_searchterms)"
   ]
  },
  {
   "cell_type": "code",
   "execution_count": 119,
   "id": "af03d3b8",
   "metadata": {},
   "outputs": [
    {
     "data": {
      "text/plain": [
       "{'Staphylococcus haemolyticus': {'sourmash_k31': 1560382000,\n",
       "  'sourmash_k51': 1471281000},\n",
       " 'Bradyrhizobium viridifuturi': {'sourmash_k31': 593000,\n",
       "  'sourmash_k51': 553000},\n",
       " 'Bacillus pacificus': {'sourmash_k31': 549000, 'sourmash_k51': 455000},\n",
       " 'Paulinella micropora': {'sourmash_k31': 181000, 'sourmash_k51': 0},\n",
       " 'Rhodobacter sp. AKP1': {'sourmash_k31': 58347999, 'sourmash_k51': 0}}"
      ]
     },
     "execution_count": 119,
     "metadata": {},
     "output_type": "execute_result"
    }
   ],
   "source": [
    "sp_fp"
   ]
  },
  {
   "cell_type": "code",
   "execution_count": 120,
   "id": "41d09880",
   "metadata": {},
   "outputs": [
    {
     "data": {
      "text/plain": [
       "{'Bradyrhizobium': {'sourmash_k31': 593000, 'sourmash_k51': 553000},\n",
       " 'Paulinella': {'sourmash_k31': 181000, 'sourmash_k51': 0}}"
      ]
     },
     "execution_count": 120,
     "metadata": {},
     "output_type": "execute_result"
    }
   ],
   "source": [
    "genus_fp"
   ]
  },
  {
   "cell_type": "code",
   "execution_count": 133,
   "id": "0232b1be",
   "metadata": {},
   "outputs": [
    {
     "data": {
      "text/plain": [
       "'HiFi_ATCC_MSA1003_full, HiFi_ATCC_MSA1003_short, Illumina_ATCC_MSA1003, Illumina_Zymo_D6300, ONT_Q20_Zymo_D6300_full, ONT_Q20_Zymo_D6300_short, ONT_R10_Zymo_D6300, HiFi_Zymo_D6331'"
      ]
     },
     "execution_count": 133,
     "metadata": {},
     "output_type": "execute_result"
    }
   ],
   "source": [
    "\", \".join(kreport_dict.keys())"
   ]
  },
  {
   "cell_type": "code",
   "execution_count": 122,
   "id": "47f59e6c",
   "metadata": {},
   "outputs": [
    {
     "name": "stdout",
     "output_type": "stream",
     "text": [
      "ATCC_MSA1003.theoretical-distrib.species.csv\n",
      "sourmash_k31 species false negatives:  \n",
      "sourmash_k31 genus false negatives:  \n",
      "sourmash_k51 species false negatives:  \n",
      "sourmash_k51 genus false negatives:  \n"
     ]
    }
   ],
   "source": [
    "sp_fp, genus_fp = assess_dataset(\"ATCC_MSA1003\", theoretical_distributions_dict, kreport_dict['HiFi_ATCC_MSA1003_short'], taxa_searchterms)"
   ]
  },
  {
   "cell_type": "code",
   "execution_count": 123,
   "id": "95605149",
   "metadata": {},
   "outputs": [
    {
     "data": {
      "text/plain": [
       "{'Staphylococcus haemolyticus': {'sourmash_k31': 232613000,\n",
       "  'sourmash_k51': 183489999},\n",
       " 'Bradyrhizobium sp. BL': {'sourmash_k31': 101000, 'sourmash_k51': 69000},\n",
       " 'Rhodobacter sp. AKP1': {'sourmash_k31': 9674000, 'sourmash_k51': 0}}"
      ]
     },
     "execution_count": 123,
     "metadata": {},
     "output_type": "execute_result"
    }
   ],
   "source": [
    "sp_fp"
   ]
  },
  {
   "cell_type": "code",
   "execution_count": 125,
   "id": "75ff2c1a",
   "metadata": {},
   "outputs": [
    {
     "data": {
      "text/plain": [
       "{'Bradyrhizobium': {'sourmash_k31': 101000, 'sourmash_k51': 69000}}"
      ]
     },
     "execution_count": 125,
     "metadata": {},
     "output_type": "execute_result"
    }
   ],
   "source": [
    "genus_fp"
   ]
  },
  {
   "cell_type": "code",
   "execution_count": 126,
   "id": "e3f9454d",
   "metadata": {},
   "outputs": [
    {
     "name": "stdout",
     "output_type": "stream",
     "text": [
      "ATCC_MSA1003.theoretical-distrib.species.csv\n",
      "sourmash_k31 species false negatives:  \n",
      "sourmash_k31 genus false negatives:  \n",
      "sourmash_k51 species false negatives:  \n",
      "sourmash_k51 genus false negatives:  \n"
     ]
    }
   ],
   "source": [
    "sp_fp, genus_fp = assess_dataset(\"ATCC_MSA1003\", theoretical_distributions_dict, kreport_dict['Illumina_ATCC_MSA1003'], taxa_searchterms)"
   ]
  },
  {
   "cell_type": "code",
   "execution_count": 127,
   "id": "f63b77cb",
   "metadata": {},
   "outputs": [
    {
     "data": {
      "text/plain": [
       "{'Staphylococcus haemolyticus': {'sourmash_k31': 107033000,\n",
       "  'sourmash_k51': 81350000},\n",
       " 'Coremiostelium polycephalum': {'sourmash_k31': 3557000, 'sourmash_k51': 0},\n",
       " 'Saccharomyces cerevisiae': {'sourmash_k31': 596000, 'sourmash_k51': 459000},\n",
       " 'Phyllobacterium calauticae': {'sourmash_k31': 340000, 'sourmash_k51': 0},\n",
       " 'Pterula multifida': {'sourmash_k31': 3585000, 'sourmash_k51': 0},\n",
       " 'Phyllobacterium sp.': {'sourmash_k31': 129000, 'sourmash_k51': 93999},\n",
       " 'Rhodobacter sp. AKP1': {'sourmash_k31': 2109000, 'sourmash_k51': 0},\n",
       " 'Acytostelium leptosomum': {'sourmash_k31': 0, 'sourmash_k51': 1427000},\n",
       " 'uncultured Phyllobacterium sp.': {'sourmash_k31': 0, 'sourmash_k51': 250000}}"
      ]
     },
     "execution_count": 127,
     "metadata": {},
     "output_type": "execute_result"
    }
   ],
   "source": [
    "sp_fp"
   ]
  },
  {
   "cell_type": "code",
   "execution_count": 128,
   "id": "5a57301e",
   "metadata": {},
   "outputs": [
    {
     "data": {
      "text/plain": [
       "{'Coremiostelium': {'sourmash_k31': 3557000, 'sourmash_k51': 0},\n",
       " 'Saccharomyces': {'sourmash_k31': 596000, 'sourmash_k51': 459000},\n",
       " 'Phyllobacterium': {'sourmash_k31': 469000, 'sourmash_k51': 344000},\n",
       " 'Pterula': {'sourmash_k31': 3585000, 'sourmash_k51': 0},\n",
       " 'Acytostelium': {'sourmash_k31': 0, 'sourmash_k51': 1427000}}"
      ]
     },
     "execution_count": 128,
     "metadata": {},
     "output_type": "execute_result"
    }
   ],
   "source": [
    "genus_fp"
   ]
  },
  {
   "cell_type": "code",
   "execution_count": 134,
   "id": "3c1a3dbe",
   "metadata": {},
   "outputs": [
    {
     "name": "stdout",
     "output_type": "stream",
     "text": [
      "Zymo_D6300.theoretical-distrib.species.csv\n",
      "sourmash_k31 species false negatives:  \n",
      "sourmash_k31 genus false negatives:  \n",
      "sourmash_k51 species false negatives:  \n",
      "sourmash_k51 genus false negatives:  \n"
     ]
    }
   ],
   "source": [
    "sp_fp, genus_fp = assess_dataset(\"Zymo_D6300\", theoretical_distributions_dict, kreport_dict['Illumina_Zymo_D6300'], taxa_searchterms)"
   ]
  },
  {
   "cell_type": "code",
   "execution_count": 135,
   "id": "d25d336e",
   "metadata": {},
   "outputs": [
    {
     "data": {
      "text/plain": [
       "{'Saccharomyces pastorianus': {'sourmash_k31': 2133000, 'sourmash_k51': 0},\n",
       " 'Bacillus sp. KbaB1': {'sourmash_k31': 143000, 'sourmash_k51': 0},\n",
       " 'Bacillus intestinalis': {'sourmash_k31': 0, 'sourmash_k51': 53823000},\n",
       " 'Bacillus cereus': {'sourmash_k31': 0, 'sourmash_k51': 80000}}"
      ]
     },
     "execution_count": 135,
     "metadata": {},
     "output_type": "execute_result"
    }
   ],
   "source": [
    "sp_fp"
   ]
  },
  {
   "cell_type": "code",
   "execution_count": 136,
   "id": "a376b959",
   "metadata": {},
   "outputs": [
    {
     "data": {
      "text/plain": [
       "{}"
      ]
     },
     "execution_count": 136,
     "metadata": {},
     "output_type": "execute_result"
    }
   ],
   "source": [
    "genus_fp"
   ]
  },
  {
   "cell_type": "code",
   "execution_count": 137,
   "id": "2503ea98",
   "metadata": {},
   "outputs": [
    {
     "name": "stdout",
     "output_type": "stream",
     "text": [
      "Zymo_D6300.theoretical-distrib.species.csv\n",
      "sourmash_k31 species false negatives:  \n",
      "sourmash_k31 genus false negatives:  \n",
      "sourmash_k51 species false negatives:  \n",
      "sourmash_k51 genus false negatives:  \n"
     ]
    }
   ],
   "source": [
    "sp_fp, genus_fp = assess_dataset(\"Zymo_D6300\", theoretical_distributions_dict, kreport_dict['ONT_Q20_Zymo_D6300_full'], taxa_searchterms)"
   ]
  },
  {
   "cell_type": "code",
   "execution_count": 138,
   "id": "a9db53aa",
   "metadata": {},
   "outputs": [
    {
     "data": {
      "text/plain": [
       "{'Saccharomyces pastorianus': {'sourmash_k31': 1863000, 'sourmash_k51': 0},\n",
       " 'Paulinella micropora': {'sourmash_k31': 648000, 'sourmash_k51': 258000},\n",
       " 'Bacillus inaquosorum': {'sourmash_k31': 309000, 'sourmash_k51': 189000},\n",
       " 'Bacillus intestinalis': {'sourmash_k31': 75000, 'sourmash_k51': 0},\n",
       " 'Salmonella sp. NCTC 11881': {'sourmash_k31': 0, 'sourmash_k51': 1264000},\n",
       " 'Limosilactobacillus oris': {'sourmash_k31': 0, 'sourmash_k51': 98000}}"
      ]
     },
     "execution_count": 138,
     "metadata": {},
     "output_type": "execute_result"
    }
   ],
   "source": [
    "sp_fp"
   ]
  },
  {
   "cell_type": "code",
   "execution_count": 139,
   "id": "ca274c23",
   "metadata": {},
   "outputs": [
    {
     "data": {
      "text/plain": [
       "{'Paulinella': {'sourmash_k31': 648000, 'sourmash_k51': 258000}}"
      ]
     },
     "execution_count": 139,
     "metadata": {},
     "output_type": "execute_result"
    }
   ],
   "source": [
    "genus_fp"
   ]
  },
  {
   "cell_type": "code",
   "execution_count": 140,
   "id": "0579bd4e",
   "metadata": {},
   "outputs": [
    {
     "name": "stdout",
     "output_type": "stream",
     "text": [
      "Zymo_D6300.theoretical-distrib.species.csv\n",
      "sourmash_k31 species false negatives:  \n",
      "sourmash_k31 genus false negatives:  \n",
      "sourmash_k51 species false negatives:  \n",
      "sourmash_k51 genus false negatives:  \n"
     ]
    }
   ],
   "source": [
    "sp_fp, genus_fp = assess_dataset(\"Zymo_D6300\", theoretical_distributions_dict, kreport_dict['ONT_Q20_Zymo_D6300_short'], taxa_searchterms)"
   ]
  },
  {
   "cell_type": "code",
   "execution_count": 141,
   "id": "a6c2c0a9",
   "metadata": {},
   "outputs": [
    {
     "data": {
      "text/plain": [
       "{'Bacillus intestinalis': {'sourmash_k31': 230433000, 'sourmash_k51': 0},\n",
       " 'Saccharomyces pastorianus': {'sourmash_k31': 1832000, 'sourmash_k51': 0},\n",
       " 'Paulinella micropora': {'sourmash_k31': 200000, 'sourmash_k51': 0},\n",
       " 'Bacillus inaquosorum': {'sourmash_k31': 394000, 'sourmash_k51': 194000},\n",
       " 'Escherichia sp. E4742': {'sourmash_k31': 69000, 'sourmash_k51': 0},\n",
       " 'Bacillus sp. TSO2': {'sourmash_k31': 66000, 'sourmash_k51': 0}}"
      ]
     },
     "execution_count": 141,
     "metadata": {},
     "output_type": "execute_result"
    }
   ],
   "source": [
    "sp_fp"
   ]
  },
  {
   "cell_type": "code",
   "execution_count": 142,
   "id": "19336a87",
   "metadata": {},
   "outputs": [
    {
     "data": {
      "text/plain": [
       "{'Paulinella': {'sourmash_k31': 200000, 'sourmash_k51': 0}}"
      ]
     },
     "execution_count": 142,
     "metadata": {},
     "output_type": "execute_result"
    }
   ],
   "source": [
    "genus_fp"
   ]
  },
  {
   "cell_type": "code",
   "execution_count": 143,
   "id": "d5000155",
   "metadata": {},
   "outputs": [
    {
     "name": "stdout",
     "output_type": "stream",
     "text": [
      "Zymo_D6300.theoretical-distrib.species.csv\n",
      "sourmash_k31 species false negatives:  \n",
      "sourmash_k31 genus false negatives:  \n",
      "sourmash_k51 species false negatives:  \n",
      "sourmash_k51 genus false negatives:  \n"
     ]
    }
   ],
   "source": [
    "sp_fp, genus_fp = assess_dataset(\"Zymo_D6300\", theoretical_distributions_dict, kreport_dict['ONT_R10_Zymo_D6300'], taxa_searchterms)"
   ]
  },
  {
   "cell_type": "code",
   "execution_count": 144,
   "id": "b0ead9be",
   "metadata": {},
   "outputs": [
    {
     "data": {
      "text/plain": [
       "{'Saccharomyces pastorianus': {'sourmash_k31': 333000, 'sourmash_k51': 0},\n",
       " 'Bacillus inaquosorum': {'sourmash_k31': 634000, 'sourmash_k51': 344000},\n",
       " 'Paulinella micropora': {'sourmash_k31': 260000, 'sourmash_k51': 0},\n",
       " 'Escherichia albertii': {'sourmash_k31': 192000, 'sourmash_k51': 0},\n",
       " 'Bacillus sp. wens01': {'sourmash_k31': 178000, 'sourmash_k51': 0},\n",
       " 'Bacillus sp. RHFS10': {'sourmash_k31': 110000, 'sourmash_k51': 0},\n",
       " 'Escherichia marmotae': {'sourmash_k31': 137000, 'sourmash_k51': 0},\n",
       " 'Stenotrophomonas maltophilia': {'sourmash_k31': 61000, 'sourmash_k51': 0},\n",
       " 'Bacillus rugosus': {'sourmash_k31': 90000, 'sourmash_k51': 0},\n",
       " 'Salmonella bongori': {'sourmash_k31': 75000, 'sourmash_k51': 0},\n",
       " 'Bacillus sp. SKDU12': {'sourmash_k31': 72000, 'sourmash_k51': 0},\n",
       " 'Bacillus intestinalis': {'sourmash_k31': 0, 'sourmash_k51': 108999},\n",
       " 'Streptococcus dysgalactiae': {'sourmash_k31': 0, 'sourmash_k51': 99000}}"
      ]
     },
     "execution_count": 144,
     "metadata": {},
     "output_type": "execute_result"
    }
   ],
   "source": [
    "sp_fp"
   ]
  },
  {
   "cell_type": "code",
   "execution_count": 145,
   "id": "7b35aa05",
   "metadata": {},
   "outputs": [
    {
     "data": {
      "text/plain": [
       "{'Paulinella': {'sourmash_k31': 260000, 'sourmash_k51': 0},\n",
       " 'Stenotrophomonas': {'sourmash_k31': 61000, 'sourmash_k51': 0},\n",
       " 'Streptococcus': {'sourmash_k31': 0, 'sourmash_k51': 99000}}"
      ]
     },
     "execution_count": 145,
     "metadata": {},
     "output_type": "execute_result"
    }
   ],
   "source": [
    "genus_fp"
   ]
  },
  {
   "cell_type": "code",
   "execution_count": null,
   "id": "2012e1da",
   "metadata": {},
   "outputs": [],
   "source": []
  }
 ],
 "metadata": {
  "kernelspec": {
   "display_name": "Python 3 (ipykernel)",
   "language": "python",
   "name": "python3"
  },
  "language_info": {
   "codemirror_mode": {
    "name": "ipython",
    "version": 3
   },
   "file_extension": ".py",
   "mimetype": "text/x-python",
   "name": "python",
   "nbconvert_exporter": "python",
   "pygments_lexer": "ipython3",
   "version": "3.8.12"
  }
 },
 "nbformat": 4,
 "nbformat_minor": 5
}
